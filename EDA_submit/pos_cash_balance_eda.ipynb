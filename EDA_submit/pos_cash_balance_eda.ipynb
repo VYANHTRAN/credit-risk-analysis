{
 "cells": [
  {
   "cell_type": "markdown",
   "metadata": {},
   "source": [
    "# Import Library"
   ]
  },
  {
   "cell_type": "code",
   "execution_count": 2,
   "metadata": {},
   "outputs": [
    {
     "data": {
      "text/html": [
       "        <script type=\"text/javascript\">\n",
       "        window.PlotlyConfig = {MathJaxConfig: 'local'};\n",
       "        if (window.MathJax && window.MathJax.Hub && window.MathJax.Hub.Config) {window.MathJax.Hub.Config({SVG: {font: \"STIX-Web\"}});}\n",
       "        if (typeof require !== 'undefined') {\n",
       "        require.undef(\"plotly\");\n",
       "        requirejs.config({\n",
       "            paths: {\n",
       "                'plotly': ['https://cdn.plot.ly/plotly-2.32.0.min']\n",
       "            }\n",
       "        });\n",
       "        require(['plotly'], function(Plotly) {\n",
       "            window._Plotly = Plotly;\n",
       "        });\n",
       "        }\n",
       "        </script>\n",
       "        "
      ]
     },
     "metadata": {},
     "output_type": "display_data"
    }
   ],
   "source": [
    "import pandas as pd\n",
    "import numpy as np\n",
    "import matplotlib.pyplot as plt\n",
    "import seaborn as sns\n",
    "import phik\n",
    "    \n",
    "import warnings\n",
    "warnings.filterwarnings('ignore')\n",
    "\n",
    "import plotly\n",
    "plotly.offline.init_notebook_mode(connected=True)\n",
    "import plotly.express as px\n",
    "import plotly.graph_objects as go\n",
    "from plotly.subplots import make_subplots\n",
    "\n",
    "from datetime import datetime\n",
    "\n",
    "pd.set_option('display.max_columns', 50)\n",
    "pd.set_option('display.max_rows', 50)"
   ]
  },
  {
   "cell_type": "markdown",
   "metadata": {},
   "source": [
    "# Loading Data"
   ]
  },
  {
   "cell_type": "code",
   "execution_count": 3,
   "metadata": {},
   "outputs": [],
   "source": [
    "def load_data (path='../dataset/'):\n",
    "    global application_train, application_test, pos_cash\n",
    "    application_train = pd.read_csv(path + 'application_train.csv')\n",
    "    application_test = pd.read_csv(path + 'application_test.csv')\n",
    "    pos_cash = pd.read_csv(path + 'POS_CASH_balance.csv')\n",
    "\n",
    "    print('Done loading')"
   ]
  },
  {
   "cell_type": "code",
   "execution_count": 4,
   "metadata": {},
   "outputs": [
    {
     "name": "stdout",
     "output_type": "stream",
     "text": [
      "Done loading\n"
     ]
    }
   ],
   "source": [
    "load_data()"
   ]
  },
  {
   "cell_type": "code",
   "execution_count": 5,
   "metadata": {},
   "outputs": [
    {
     "name": "stdout",
     "output_type": "stream",
     "text": [
      "Merging TARGET with POS_CASH Table\n"
     ]
    }
   ],
   "source": [
    "print(\"Merging TARGET with POS_CASH Table\")\n",
    "pos_cash_merge = application_train[['SK_ID_CURR', 'TARGET']].merge(pos_cash, on = 'SK_ID_CURR', how = 'right')"
   ]
  },
  {
   "cell_type": "markdown",
   "metadata": {},
   "source": [
    "# EDA"
   ]
  },
  {
   "cell_type": "markdown",
   "metadata": {},
   "source": [
    "## 1. Shape and Description"
   ]
  },
  {
   "cell_type": "code",
   "execution_count": 6,
   "metadata": {},
   "outputs": [
    {
     "data": {
      "text/plain": [
       "(8543375, 8)"
      ]
     },
     "execution_count": 6,
     "metadata": {},
     "output_type": "execute_result"
    }
   ],
   "source": [
    "pos_cash.shape"
   ]
  },
  {
   "cell_type": "code",
   "execution_count": 7,
   "metadata": {},
   "outputs": [
    {
     "name": "stdout",
     "output_type": "stream",
     "text": [
      "<class 'pandas.core.frame.DataFrame'>\n",
      "RangeIndex: 8543375 entries, 0 to 8543374\n",
      "Data columns (total 8 columns):\n",
      " #   Column                 Dtype  \n",
      "---  ------                 -----  \n",
      " 0   SK_ID_PREV             int64  \n",
      " 1   MONTHS_BALANCE         int64  \n",
      " 2   CNT_INSTALMENT         float64\n",
      " 3   CNT_INSTALMENT_FUTURE  float64\n",
      " 4   NAME_CONTRACT_STATUS   object \n",
      " 5   SK_DPD                 int64  \n",
      " 6   SK_DPD_DEF             int64  \n",
      " 7   SK_ID_CURR             int64  \n",
      "dtypes: float64(2), int64(5), object(1)\n",
      "memory usage: 521.4+ MB\n"
     ]
    }
   ],
   "source": [
    "pos_cash.info()"
   ]
  },
  {
   "cell_type": "code",
   "execution_count": 8,
   "metadata": {},
   "outputs": [
    {
     "data": {
      "text/plain": [
       "Index(['SK_ID_PREV', 'MONTHS_BALANCE', 'CNT_INSTALMENT',\n",
       "       'CNT_INSTALMENT_FUTURE', 'NAME_CONTRACT_STATUS', 'SK_DPD', 'SK_DPD_DEF',\n",
       "       'SK_ID_CURR'],\n",
       "      dtype='object')"
      ]
     },
     "execution_count": 8,
     "metadata": {},
     "output_type": "execute_result"
    }
   ],
   "source": [
    "pos_cash.columns"
   ]
  },
  {
   "cell_type": "markdown",
   "metadata": {},
   "source": [
    "- SK_ID_PREV: Mã của khoản tín dụng trước đó trong Home Credit liên quan đến khoản vay trong mẫu của chúng ta. (Một khoản vay trong mẫu của chúng ta có thể có 0, 1, 2 hoặc nhiều khoản vay trước đó tại Home Credit).\n",
    "\n",
    "- SK_ID_CURR: Mã của khoản vay trong mẫu của chúng ta.\n",
    "\n",
    "- MONTHS_BALANCE: Tháng của số dư tương đối với ngày nộp đơn (giá trị -1 có nghĩa là thông tin mới nhất về số dư, giá trị 0 có nghĩa là thông tin tại thời điểm nộp đơn — thường thì giá trị này sẽ giống với -1 vì nhiều ngân hàng không cập nhật thông tin thường xuyên vào Cơ quan tín dụng).\n",
    "\n",
    "- CNT_INSTALMENT: Số kỳ hạn của tín dụng trước đó (có thể thay đổi theo thời gian).\n",
    "\n",
    "- CNT_INSTALMENT_FUTURE: Số kỳ còn lại để thanh toán đối với tín dụng trước đó.\n",
    "\n",
    "- NAME_CONTRACT_STATUS: Trạng thái hợp đồng trong tháng.\n",
    "\n",
    "- SK_DPD: Số ngày quá hạn trong tháng của tín dụng trước đó.\n",
    "\n",
    "- SK_DPD_DEF: Số ngày quá hạn trong tháng với dung sai (bỏ qua các khoản vay có số dư thấp) của tín dụng trước đó.\n"
   ]
  },
  {
   "cell_type": "code",
   "execution_count": 9,
   "metadata": {},
   "outputs": [
    {
     "data": {
      "text/html": [
       "<div>\n",
       "<style scoped>\n",
       "    .dataframe tbody tr th:only-of-type {\n",
       "        vertical-align: middle;\n",
       "    }\n",
       "\n",
       "    .dataframe tbody tr th {\n",
       "        vertical-align: top;\n",
       "    }\n",
       "\n",
       "    .dataframe thead th {\n",
       "        text-align: right;\n",
       "    }\n",
       "</style>\n",
       "<table border=\"1\" class=\"dataframe\">\n",
       "  <thead>\n",
       "    <tr style=\"text-align: right;\">\n",
       "      <th></th>\n",
       "      <th>SK_ID_PREV</th>\n",
       "      <th>MONTHS_BALANCE</th>\n",
       "      <th>CNT_INSTALMENT</th>\n",
       "      <th>CNT_INSTALMENT_FUTURE</th>\n",
       "      <th>NAME_CONTRACT_STATUS</th>\n",
       "      <th>SK_DPD</th>\n",
       "      <th>SK_DPD_DEF</th>\n",
       "      <th>SK_ID_CURR</th>\n",
       "    </tr>\n",
       "  </thead>\n",
       "  <tbody>\n",
       "    <tr>\n",
       "      <th>0</th>\n",
       "      <td>1803195</td>\n",
       "      <td>-31</td>\n",
       "      <td>48.0</td>\n",
       "      <td>45.0</td>\n",
       "      <td>Active</td>\n",
       "      <td>0</td>\n",
       "      <td>0</td>\n",
       "      <td>185279</td>\n",
       "    </tr>\n",
       "    <tr>\n",
       "      <th>1</th>\n",
       "      <td>1803195</td>\n",
       "      <td>-17</td>\n",
       "      <td>48.0</td>\n",
       "      <td>31.0</td>\n",
       "      <td>Active</td>\n",
       "      <td>0</td>\n",
       "      <td>0</td>\n",
       "      <td>185279</td>\n",
       "    </tr>\n",
       "    <tr>\n",
       "      <th>2</th>\n",
       "      <td>1803195</td>\n",
       "      <td>-21</td>\n",
       "      <td>48.0</td>\n",
       "      <td>35.0</td>\n",
       "      <td>Active</td>\n",
       "      <td>0</td>\n",
       "      <td>0</td>\n",
       "      <td>185279</td>\n",
       "    </tr>\n",
       "    <tr>\n",
       "      <th>3</th>\n",
       "      <td>1803195</td>\n",
       "      <td>-8</td>\n",
       "      <td>48.0</td>\n",
       "      <td>21.0</td>\n",
       "      <td>Active</td>\n",
       "      <td>0</td>\n",
       "      <td>0</td>\n",
       "      <td>185279</td>\n",
       "    </tr>\n",
       "    <tr>\n",
       "      <th>4</th>\n",
       "      <td>1803195</td>\n",
       "      <td>-4</td>\n",
       "      <td>48.0</td>\n",
       "      <td>17.0</td>\n",
       "      <td>Active</td>\n",
       "      <td>0</td>\n",
       "      <td>0</td>\n",
       "      <td>185279</td>\n",
       "    </tr>\n",
       "  </tbody>\n",
       "</table>\n",
       "</div>"
      ],
      "text/plain": [
       "   SK_ID_PREV  MONTHS_BALANCE  CNT_INSTALMENT  CNT_INSTALMENT_FUTURE  \\\n",
       "0     1803195             -31            48.0                   45.0   \n",
       "1     1803195             -17            48.0                   31.0   \n",
       "2     1803195             -21            48.0                   35.0   \n",
       "3     1803195              -8            48.0                   21.0   \n",
       "4     1803195              -4            48.0                   17.0   \n",
       "\n",
       "  NAME_CONTRACT_STATUS  SK_DPD  SK_DPD_DEF  SK_ID_CURR  \n",
       "0               Active       0           0      185279  \n",
       "1               Active       0           0      185279  \n",
       "2               Active       0           0      185279  \n",
       "3               Active       0           0      185279  \n",
       "4               Active       0           0      185279  "
      ]
     },
     "execution_count": 9,
     "metadata": {},
     "output_type": "execute_result"
    }
   ],
   "source": [
    "pos_cash.head()"
   ]
  },
  {
   "cell_type": "code",
   "execution_count": 10,
   "metadata": {},
   "outputs": [
    {
     "name": "stdout",
     "output_type": "stream",
     "text": [
      "Shape of pos_cash: (8543375, 8)\n",
      "--------------------------------------------------\n",
      "Unique SK_ID_PREV in pos_cash: 800337\n",
      "Unique SK_ID_CURR in pos_cash: 289444\n"
     ]
    },
    {
     "name": "stdout",
     "output_type": "stream",
     "text": [
      "Unique SK_ID_CURR of pos_cash in application_train: 231531\n",
      "Unique SK_ID_CURR of pos_cash in application_test: 57913\n",
      "--------------------------------------------------\n",
      "Unique SK_ID_CURR in application_train: 246009\n",
      "Unique SK_ID_CURR in application_test: 61502\n",
      "--------------------------------------------------\n"
     ]
    },
    {
     "data": {
      "text/html": [
       "<div>\n",
       "<style scoped>\n",
       "    .dataframe tbody tr th:only-of-type {\n",
       "        vertical-align: middle;\n",
       "    }\n",
       "\n",
       "    .dataframe tbody tr th {\n",
       "        vertical-align: top;\n",
       "    }\n",
       "\n",
       "    .dataframe thead th {\n",
       "        text-align: right;\n",
       "    }\n",
       "</style>\n",
       "<table border=\"1\" class=\"dataframe\">\n",
       "  <thead>\n",
       "    <tr style=\"text-align: right;\">\n",
       "      <th></th>\n",
       "      <th>SK_ID_PREV</th>\n",
       "      <th>MONTHS_BALANCE</th>\n",
       "      <th>CNT_INSTALMENT</th>\n",
       "      <th>CNT_INSTALMENT_FUTURE</th>\n",
       "      <th>NAME_CONTRACT_STATUS</th>\n",
       "      <th>SK_DPD</th>\n",
       "      <th>SK_DPD_DEF</th>\n",
       "      <th>SK_ID_CURR</th>\n",
       "    </tr>\n",
       "  </thead>\n",
       "  <tbody>\n",
       "    <tr>\n",
       "      <th>0</th>\n",
       "      <td>1803195</td>\n",
       "      <td>-31</td>\n",
       "      <td>48.0</td>\n",
       "      <td>45.0</td>\n",
       "      <td>Active</td>\n",
       "      <td>0</td>\n",
       "      <td>0</td>\n",
       "      <td>185279</td>\n",
       "    </tr>\n",
       "    <tr>\n",
       "      <th>1</th>\n",
       "      <td>1803195</td>\n",
       "      <td>-17</td>\n",
       "      <td>48.0</td>\n",
       "      <td>31.0</td>\n",
       "      <td>Active</td>\n",
       "      <td>0</td>\n",
       "      <td>0</td>\n",
       "      <td>185279</td>\n",
       "    </tr>\n",
       "    <tr>\n",
       "      <th>2</th>\n",
       "      <td>1803195</td>\n",
       "      <td>-21</td>\n",
       "      <td>48.0</td>\n",
       "      <td>35.0</td>\n",
       "      <td>Active</td>\n",
       "      <td>0</td>\n",
       "      <td>0</td>\n",
       "      <td>185279</td>\n",
       "    </tr>\n",
       "    <tr>\n",
       "      <th>3</th>\n",
       "      <td>1803195</td>\n",
       "      <td>-8</td>\n",
       "      <td>48.0</td>\n",
       "      <td>21.0</td>\n",
       "      <td>Active</td>\n",
       "      <td>0</td>\n",
       "      <td>0</td>\n",
       "      <td>185279</td>\n",
       "    </tr>\n",
       "    <tr>\n",
       "      <th>4</th>\n",
       "      <td>1803195</td>\n",
       "      <td>-4</td>\n",
       "      <td>48.0</td>\n",
       "      <td>17.0</td>\n",
       "      <td>Active</td>\n",
       "      <td>0</td>\n",
       "      <td>0</td>\n",
       "      <td>185279</td>\n",
       "    </tr>\n",
       "  </tbody>\n",
       "</table>\n",
       "</div>"
      ],
      "text/plain": [
       "   SK_ID_PREV  MONTHS_BALANCE  CNT_INSTALMENT  CNT_INSTALMENT_FUTURE  \\\n",
       "0     1803195             -31            48.0                   45.0   \n",
       "1     1803195             -17            48.0                   31.0   \n",
       "2     1803195             -21            48.0                   35.0   \n",
       "3     1803195              -8            48.0                   21.0   \n",
       "4     1803195              -4            48.0                   17.0   \n",
       "\n",
       "  NAME_CONTRACT_STATUS  SK_DPD  SK_DPD_DEF  SK_ID_CURR  \n",
       "0               Active       0           0      185279  \n",
       "1               Active       0           0      185279  \n",
       "2               Active       0           0      185279  \n",
       "3               Active       0           0      185279  \n",
       "4               Active       0           0      185279  "
      ]
     },
     "metadata": {},
     "output_type": "display_data"
    }
   ],
   "source": [
    "print(f'Shape of pos_cash: {pos_cash.shape}')\n",
    "print('-' * 50)\n",
    "print(f'Unique SK_ID_PREV in pos_cash: {pos_cash['SK_ID_PREV'].nunique()}')\n",
    "print(f'Unique SK_ID_CURR in pos_cash: {pos_cash['SK_ID_CURR'].nunique()}')\n",
    "print(f'Unique SK_ID_CURR of pos_cash in application_train: {application_train[application_train[\"SK_ID_CURR\"].isin(pos_cash[\"SK_ID_CURR\"])].shape[0]}')\n",
    "print(f'Unique SK_ID_CURR of pos_cash in application_test: {application_test[application_test[\"SK_ID_CURR\"].isin(pos_cash[\"SK_ID_CURR\"])].shape[0]}') \n",
    "print('-' * 50)\n",
    "print(f'Unique SK_ID_CURR in application_train: {application_train[\"SK_ID_CURR\"].nunique()}')\n",
    "print(f'Unique SK_ID_CURR in application_test: {application_test[\"SK_ID_CURR\"].nunique()}')\n",
    "print('-' * 50)\n",
    "display(pos_cash.head())"
   ]
  },
  {
   "cell_type": "code",
   "execution_count": 11,
   "metadata": {},
   "outputs": [
    {
     "name": "stdout",
     "output_type": "stream",
     "text": [
      "Unique values in NAME_CONTRACT_STATUS: 9\n",
      "['Active' 'Completed' 'Approved' 'Signed' 'Returned to the store' 'Demand'\n",
      " 'XNA' 'Canceled' 'Amortized debt']\n",
      "--------------------------------------------------\n"
     ]
    }
   ],
   "source": [
    "for col in pos_cash.columns:\n",
    "    if pos_cash[col].dtype == 'object':\n",
    "        print(f'Unique values in {col}: {pos_cash[col].nunique()}')\n",
    "        print(f'{pos_cash[col].unique()}')\n",
    "        print('-' * 50)"
   ]
  },
  {
   "cell_type": "markdown",
   "metadata": {},
   "source": [
    "# 2. Univariate Analysis"
   ]
  },
  {
   "cell_type": "markdown",
   "metadata": {},
   "source": [
    "# 2.1 Categorical Variables"
   ]
  },
  {
   "cell_type": "code",
   "execution_count": 12,
   "metadata": {},
   "outputs": [],
   "source": [
    "def plot_object_col_num(data, title, col, tight_layout=True, figsize= (10, 5), rotation=0):\n",
    "    plt.figure(figsize=figsize)\n",
    "    sns.countplot(data[col], order=data[col].value_counts().index)\n",
    "    plt.title(title)\n",
    "    plt.xticks(rotation=rotation)\n",
    "    if tight_layout:\n",
    "        plt.tight_layout()\n",
    "    plt.show()\n",
    "\n",
    "def plot_object_col_percent(data, title, col, tight_layout=True, figsize= (10, 5), rotation=0):\n",
    "    plt.figure(figsize=figsize)\n",
    "    sns.barplot(data[col].value_counts(normalize=True).values*100, orient='h')\n",
    "    plt.title(title)\n",
    "    plt.xticks(rotation=rotation)\n",
    "    plt.yticks(range(len(data[col].value_counts().index)), data[col].value_counts(normalize=True).index)\n",
    "    plt.xlabel('Percent')\n",
    "    if tight_layout:\n",
    "        plt.tight_layout()\n",
    "    plt.show()"
   ]
  },
  {
   "cell_type": "code",
   "execution_count": 13,
   "metadata": {},
   "outputs": [
    {
     "data": {
      "image/png": "[encoded data removed]",
      "text/plain": [
       "<Figure size 1000x500 with 1 Axes>"
      ]
     },
     "metadata": {},
     "output_type": "display_data"
    }
   ],
   "source": [
    "plot_object_col_num(pos_cash, 'Name contract status', 'NAME_CONTRACT_STATUS')"
   ]
  },
  {
   "cell_type": "code",
   "execution_count": 14,
   "metadata": {},
   "outputs": [
    {
     "data": {
      "image/png": "[encoded data removed]",
      "text/plain": [
       "<Figure size 1000x400 with 1 Axes>"
      ]
     },
     "metadata": {},
     "output_type": "display_data"
    }
   ],
   "source": [
    "plot_object_col_percent(pos_cash, 'Name contract status', 'NAME_CONTRACT_STATUS', figsize=(10, 4))"
   ]
  },
  {
   "cell_type": "markdown",
   "metadata": {},
   "source": [
    "### Comment\n",
    "- Most of the NAME_CONTRACT_STATUS are Active (>85%) or Completed (~10%). Maybe combine Active and Completed into 1 group and other value into 1 categories Others"
   ]
  },
  {
   "cell_type": "markdown",
   "metadata": {},
   "source": [
    "## 2.2 Numerical Data"
   ]
  },
  {
   "cell_type": "code",
   "execution_count": 15,
   "metadata": {},
   "outputs": [],
   "source": [
    "categorical_col = pos_cash.select_dtypes('object').columns.to_list()\n",
    "numerical_col = [col for col in pos_cash.columns if col not in categorical_col and col not in ['SK_ID_CURR', 'SK_ID_PREV']]"
   ]
  },
  {
   "cell_type": "code",
   "execution_count": 16,
   "metadata": {},
   "outputs": [
    {
     "name": "stdout",
     "output_type": "stream",
     "text": [
      "       MONTHS_BALANCE  CNT_INSTALMENT  CNT_INSTALMENT_FUTURE    SK_DPD  \\\n",
      "count       8543375.0       8521512.0              8521497.0 8543375.0   \n",
      "mean            -34.9            17.0                   10.5      11.9   \n",
      "std              26.1            12.0                   11.1     134.0   \n",
      "min             -96.0             1.0                    0.0       0.0   \n",
      "25%             -54.0            10.0                    3.0       0.0   \n",
      "50%             -28.0            12.0                    7.0       0.0   \n",
      "75%             -13.0            24.0                   14.0       0.0   \n",
      "max              -1.0            84.0                   84.0    4231.0   \n",
      "\n",
      "       SK_DPD_DEF  \n",
      "count   8543375.0  \n",
      "mean          0.6  \n",
      "std          30.4  \n",
      "min           0.0  \n",
      "25%           0.0  \n",
      "50%           0.0  \n",
      "75%           0.0  \n",
      "max        3373.0  \n"
     ]
    }
   ],
   "source": [
    "# describe numerical columns except SK_ID_CURR and SK_ID_BUREAU\n",
    "with pd.option_context('display.float_format', '{:.1f}'.format):\n",
    "    print(pos_cash.drop(['SK_ID_CURR', 'SK_ID_PREV'], axis=1).describe())"
   ]
  },
  {
   "cell_type": "markdown",
   "metadata": {},
   "source": [
    "### Comment\n",
    "1. **MONTHS_BALANCE**: Tháng của số dư tương đối với ngày nộp đơn (giá trị -1 có nghĩa là thông tin mới nhất về số dư, giá trị 0 có nghĩa là thông tin tại thời điểm nộp đơn — thường thì giá trị này sẽ giống với -1 vì nhiều ngân hàng không cập nhật thông tin thường xuyên vào Cơ quan tín dụng).\n",
    "    - Có khoản vay sớm nhất từ 8 năm trước\n",
    "\n",
    "2. CNT_INSTALMENT: Số kỳ hạn của tín dụng trước đó (có thể thay đổi theo thời gian).\n",
    "    - Kì hạn nhỏ nhất là 1 kì -> 84 kì\n",
    "\n",
    "3.  CNT_INSTALMENT_FUTURE: Số kỳ còn lại để thanh toán đối với tín dụng trước đó.\n",
    "    - 0: đã trả xong -> Closed\n",
    "\n",
    "4. SK_DPD: Số ngày quá hạn trong tháng của tín dụng trước đó.\n",
    "    - Có khoản vay quá hạn 4231 ngày (11 năm) -> Chuyển thành NaN những giá trị quá 8 năm vì khoản vay sớm nhất từ 8 năm trước\n",
    "\n",
    "5. SK_DPD_DEF: Số ngày quá hạn trong tháng với dung sai (bỏ qua các khoản vay có số dư thấp) của tín dụng trước đó.\n",
    "    - 0: \n",
    "    - 3373 -> lỗi\n"
   ]
  },
  {
   "cell_type": "code",
   "execution_count": 28,
   "metadata": {},
   "outputs": [
    {
     "data": {
      "text/plain": [
       "Index(['SK_ID_CURR', 'TARGET', 'SK_ID_PREV', 'MONTHS_BALANCE',\n",
       "       'CNT_INSTALMENT', 'CNT_INSTALMENT_FUTURE', 'SK_DPD', 'SK_DPD_DEF'],\n",
       "      dtype='object')"
      ]
     },
     "execution_count": 28,
     "metadata": {},
     "output_type": "execute_result"
    }
   ],
   "source": [
    "numeric_columns = pos_cash_merge.select_dtypes(include=['number']).columns\n",
    "numeric_columns"
   ]
  },
  {
   "cell_type": "code",
   "execution_count": 29,
   "metadata": {},
   "outputs": [],
   "source": [
    "pos_cash_merged = pos_cash_merge.groupby('SK_ID_PREV')[numeric_columns].mean()"
   ]
  },
  {
   "cell_type": "markdown",
   "metadata": {},
   "source": [
    "**Distribution of Continuous Vairable CNT_INSTALMENT_FUTURE**"
   ]
  },
  {
   "cell_type": "code",
   "execution_count": 23,
   "metadata": {},
   "outputs": [],
   "source": [
    "def plot_box_plot(data, column_name, scale_limits = None, figsize = (20,8), histogram = True, log_scale = False):\n",
    "    data_to_plot = data.copy()\n",
    "    if scale_limits:\n",
    "        data_to_plot[column_name] = data[column_name][(data[column_name] > scale_limits[0]) & (data[column_name] < scale_limits[1])]\n",
    "    plt.figure(figsize = figsize)\n",
    "    sns.set_style('whitegrid')\n",
    "    sns.boxplot(x='TARGET', y=column_name, data=data_to_plot)\n",
    "    plt.title(\"Box-Plot of {}\".format(column_name))\n",
    "    if log_scale:\n",
    "        plt.yscale('log')\n",
    "        plt.ylabel(f'{column_name} (log Scale)')\n",
    "    plt.show()"
   ]
  },
  {
   "cell_type": "code",
   "execution_count": 30,
   "metadata": {},
   "outputs": [
    {
     "data": {
      "image/png": "[encoded data removed]",
      "text/plain": [
       "<Figure size 800x800 with 1 Axes>"
      ]
     },
     "metadata": {},
     "output_type": "display_data"
    }
   ],
   "source": [
    "plot_box_plot(pos_cash_merged, 'CNT_INSTALMENT_FUTURE', figsize = (8,8))\n",
    "del pos_cash_merged"
   ]
  },
  {
   "cell_type": "markdown",
   "metadata": {},
   "source": [
    "#### Comment:\n",
    "- THe percentile values > 50% for Defaulters are usually higher than those of Non-Defaulters. \n",
    "- Upper limit whisker for Defaulters is higher than that of Non-Defaulters. \n",
    "- This suggests that the Defaulters tend to have more number of Installments remaining on their previous credits as compared to Non-Defaulters.\n"
   ]
  },
  {
   "cell_type": "markdown",
   "metadata": {},
   "source": [
    "# 3. Null Values"
   ]
  },
  {
   "cell_type": "code",
   "execution_count": 31,
   "metadata": {},
   "outputs": [],
   "source": [
    "def nan_df_create(data):\n",
    "    nan_percentages = data.isna().sum() * 100 / len(data)\n",
    "    df = pd.DataFrame({'column' : nan_percentages.index, 'percent' : nan_percentages.values})\n",
    "\n",
    "    #sorting the dataframe by decreasing order\n",
    "    df = df.sort_values(by = 'percent', ascending = False)\n",
    "    return df"
   ]
  },
  {
   "cell_type": "code",
   "execution_count": 32,
   "metadata": {},
   "outputs": [],
   "source": [
    "def plot_nan(df_nan, title, figsize = (20,8), tight_layout = True, grid = False, rotation = 90):\n",
    "    if df_nan[df_nan['percent'] != 0].shape[0] != 0:\n",
    "        print(f'{df_nan[df_nan['percent'] != 0].shape[0]} columns have missing values')\n",
    "        plt.figure(figsize = figsize, tight_layout = tight_layout)\n",
    "        sns.barplot(x = 'column', y = 'percent', data = df_nan[df_nan['percent'] != 0])\n",
    "        plt.title(f'Percentage of missing values in each column of {title}')\n",
    "        plt.xlabel('Columns')\n",
    "        plt.ylabel('Percentage of missing values')\n",
    "        plt.xticks(rotation = rotation)\n",
    "        plt.grid(grid)\n",
    "        plt.show()\n",
    "    else:\n",
    "        print('No missing values in the dataframe')"
   ]
  },
  {
   "cell_type": "code",
   "execution_count": 33,
   "metadata": {},
   "outputs": [
    {
     "name": "stdout",
     "output_type": "stream",
     "text": [
      "Columns with NaN values and their percentages:\n"
     ]
    },
    {
     "data": {
      "text/html": [
       "<div>\n",
       "<style scoped>\n",
       "    .dataframe tbody tr th:only-of-type {\n",
       "        vertical-align: middle;\n",
       "    }\n",
       "\n",
       "    .dataframe tbody tr th {\n",
       "        vertical-align: top;\n",
       "    }\n",
       "\n",
       "    .dataframe thead th {\n",
       "        text-align: right;\n",
       "    }\n",
       "</style>\n",
       "<table border=\"1\" class=\"dataframe\">\n",
       "  <thead>\n",
       "    <tr style=\"text-align: right;\">\n",
       "      <th></th>\n",
       "      <th>column</th>\n",
       "      <th>percent</th>\n",
       "    </tr>\n",
       "  </thead>\n",
       "  <tbody>\n",
       "    <tr>\n",
       "      <th>3</th>\n",
       "      <td>CNT_INSTALMENT_FUTURE</td>\n",
       "      <td>0.256081</td>\n",
       "    </tr>\n",
       "    <tr>\n",
       "      <th>2</th>\n",
       "      <td>CNT_INSTALMENT</td>\n",
       "      <td>0.255906</td>\n",
       "    </tr>\n",
       "  </tbody>\n",
       "</table>\n",
       "</div>"
      ],
      "text/plain": [
       "                  column   percent\n",
       "3  CNT_INSTALMENT_FUTURE  0.256081\n",
       "2         CNT_INSTALMENT  0.255906"
      ]
     },
     "metadata": {},
     "output_type": "display_data"
    },
    {
     "name": "stdout",
     "output_type": "stream",
     "text": [
      "----------------------------------------------------------------------------------------------------\n"
     ]
    }
   ],
   "source": [
    "print(\"Columns with NaN values and their percentages:\")\n",
    "POS_CASH_nan = nan_df_create(pos_cash)\n",
    "display(POS_CASH_nan[POS_CASH_nan.percent != 0])\n",
    "print('-'*100)\n",
    "del POS_CASH_nan"
   ]
  },
  {
   "cell_type": "markdown",
   "metadata": {},
   "source": [
    "### Comment\n",
    "Không có quá nhiều giá trị nan"
   ]
  },
  {
   "cell_type": "markdown",
   "metadata": {},
   "source": [
    "# 4. Others problems/ Outliers"
   ]
  },
  {
   "cell_type": "markdown",
   "metadata": {},
   "source": [
    "## 4.1 CNT_INSTALMENT_FUTURE = 0 nhưng status != Close? "
   ]
  },
  {
   "cell_type": "code",
   "execution_count": 34,
   "metadata": {},
   "outputs": [
    {
     "data": {
      "text/html": [
       "<div>\n",
       "<style scoped>\n",
       "    .dataframe tbody tr th:only-of-type {\n",
       "        vertical-align: middle;\n",
       "    }\n",
       "\n",
       "    .dataframe tbody tr th {\n",
       "        vertical-align: top;\n",
       "    }\n",
       "\n",
       "    .dataframe thead th {\n",
       "        text-align: right;\n",
       "    }\n",
       "</style>\n",
       "<table border=\"1\" class=\"dataframe\">\n",
       "  <thead>\n",
       "    <tr style=\"text-align: right;\">\n",
       "      <th></th>\n",
       "      <th>SK_ID_PREV</th>\n",
       "      <th>MONTHS_BALANCE</th>\n",
       "      <th>CNT_INSTALMENT</th>\n",
       "      <th>CNT_INSTALMENT_FUTURE</th>\n",
       "      <th>NAME_CONTRACT_STATUS</th>\n",
       "      <th>SK_DPD</th>\n",
       "      <th>SK_DPD_DEF</th>\n",
       "      <th>SK_ID_CURR</th>\n",
       "    </tr>\n",
       "  </thead>\n",
       "  <tbody>\n",
       "    <tr>\n",
       "      <th>46</th>\n",
       "      <td>2671131</td>\n",
       "      <td>-77</td>\n",
       "      <td>6.0</td>\n",
       "      <td>0.0</td>\n",
       "      <td>Active</td>\n",
       "      <td>0</td>\n",
       "      <td>0</td>\n",
       "      <td>140883</td>\n",
       "    </tr>\n",
       "    <tr>\n",
       "      <th>139</th>\n",
       "      <td>1980689</td>\n",
       "      <td>-83</td>\n",
       "      <td>10.0</td>\n",
       "      <td>0.0</td>\n",
       "      <td>Active</td>\n",
       "      <td>58</td>\n",
       "      <td>0</td>\n",
       "      <td>272857</td>\n",
       "    </tr>\n",
       "    <tr>\n",
       "      <th>141</th>\n",
       "      <td>1980689</td>\n",
       "      <td>-82</td>\n",
       "      <td>10.0</td>\n",
       "      <td>0.0</td>\n",
       "      <td>Active</td>\n",
       "      <td>88</td>\n",
       "      <td>0</td>\n",
       "      <td>272857</td>\n",
       "    </tr>\n",
       "    <tr>\n",
       "      <th>145</th>\n",
       "      <td>1980689</td>\n",
       "      <td>-77</td>\n",
       "      <td>10.0</td>\n",
       "      <td>0.0</td>\n",
       "      <td>Active</td>\n",
       "      <td>240</td>\n",
       "      <td>0</td>\n",
       "      <td>272857</td>\n",
       "    </tr>\n",
       "    <tr>\n",
       "      <th>146</th>\n",
       "      <td>1980689</td>\n",
       "      <td>-80</td>\n",
       "      <td>10.0</td>\n",
       "      <td>0.0</td>\n",
       "      <td>Active</td>\n",
       "      <td>150</td>\n",
       "      <td>0</td>\n",
       "      <td>272857</td>\n",
       "    </tr>\n",
       "    <tr>\n",
       "      <th>...</th>\n",
       "      <td>...</td>\n",
       "      <td>...</td>\n",
       "      <td>...</td>\n",
       "      <td>...</td>\n",
       "      <td>...</td>\n",
       "      <td>...</td>\n",
       "      <td>...</td>\n",
       "      <td>...</td>\n",
       "    </tr>\n",
       "    <tr>\n",
       "      <th>8543074</th>\n",
       "      <td>2239952</td>\n",
       "      <td>-7</td>\n",
       "      <td>4.0</td>\n",
       "      <td>0.0</td>\n",
       "      <td>Active</td>\n",
       "      <td>0</td>\n",
       "      <td>0</td>\n",
       "      <td>195541</td>\n",
       "    </tr>\n",
       "    <tr>\n",
       "      <th>8543102</th>\n",
       "      <td>1414827</td>\n",
       "      <td>-96</td>\n",
       "      <td>6.0</td>\n",
       "      <td>0.0</td>\n",
       "      <td>Active</td>\n",
       "      <td>0</td>\n",
       "      <td>0</td>\n",
       "      <td>204798</td>\n",
       "    </tr>\n",
       "    <tr>\n",
       "      <th>8543256</th>\n",
       "      <td>1364356</td>\n",
       "      <td>-96</td>\n",
       "      <td>11.0</td>\n",
       "      <td>0.0</td>\n",
       "      <td>Active</td>\n",
       "      <td>0</td>\n",
       "      <td>0</td>\n",
       "      <td>133483</td>\n",
       "    </tr>\n",
       "    <tr>\n",
       "      <th>8543304</th>\n",
       "      <td>2755201</td>\n",
       "      <td>-6</td>\n",
       "      <td>2.0</td>\n",
       "      <td>0.0</td>\n",
       "      <td>Active</td>\n",
       "      <td>0</td>\n",
       "      <td>0</td>\n",
       "      <td>288220</td>\n",
       "    </tr>\n",
       "    <tr>\n",
       "      <th>8543374</th>\n",
       "      <td>2153276</td>\n",
       "      <td>-1</td>\n",
       "      <td>1.0</td>\n",
       "      <td>0.0</td>\n",
       "      <td>Active</td>\n",
       "      <td>0</td>\n",
       "      <td>0</td>\n",
       "      <td>265502</td>\n",
       "    </tr>\n",
       "  </tbody>\n",
       "</table>\n",
       "<p>379838 rows × 8 columns</p>\n",
       "</div>"
      ],
      "text/plain": [
       "         SK_ID_PREV  MONTHS_BALANCE  CNT_INSTALMENT  CNT_INSTALMENT_FUTURE  \\\n",
       "46          2671131             -77             6.0                    0.0   \n",
       "139         1980689             -83            10.0                    0.0   \n",
       "141         1980689             -82            10.0                    0.0   \n",
       "145         1980689             -77            10.0                    0.0   \n",
       "146         1980689             -80            10.0                    0.0   \n",
       "...             ...             ...             ...                    ...   \n",
       "8543074     2239952              -7             4.0                    0.0   \n",
       "8543102     1414827             -96             6.0                    0.0   \n",
       "8543256     1364356             -96            11.0                    0.0   \n",
       "8543304     2755201              -6             2.0                    0.0   \n",
       "8543374     2153276              -1             1.0                    0.0   \n",
       "\n",
       "        NAME_CONTRACT_STATUS  SK_DPD  SK_DPD_DEF  SK_ID_CURR  \n",
       "46                    Active       0           0      140883  \n",
       "139                   Active      58           0      272857  \n",
       "141                   Active      88           0      272857  \n",
       "145                   Active     240           0      272857  \n",
       "146                   Active     150           0      272857  \n",
       "...                      ...     ...         ...         ...  \n",
       "8543074               Active       0           0      195541  \n",
       "8543102               Active       0           0      204798  \n",
       "8543256               Active       0           0      133483  \n",
       "8543304               Active       0           0      288220  \n",
       "8543374               Active       0           0      265502  \n",
       "\n",
       "[379838 rows x 8 columns]"
      ]
     },
     "execution_count": 34,
     "metadata": {},
     "output_type": "execute_result"
    }
   ],
   "source": [
    "pos_cash.loc[(pos_cash['CNT_INSTALMENT_FUTURE'] == 0) & (pos_cash['NAME_CONTRACT_STATUS'] == 'Active')]\n"
   ]
  },
  {
   "cell_type": "code",
   "execution_count": 35,
   "metadata": {},
   "outputs": [
    {
     "data": {
      "text/plain": [
       "(8543375, 8)"
      ]
     },
     "execution_count": 35,
     "metadata": {},
     "output_type": "execute_result"
    }
   ],
   "source": [
    "pos_cash.shape"
   ]
  },
  {
   "cell_type": "markdown",
   "metadata": {},
   "source": [
    "## 4.3 CNT_INSTALMENT_FUTURE > CNT_INSTALMENT: Vô lý vì số  kì còn lại cần trả lớn hơn số kì thực tế vay"
   ]
  },
  {
   "cell_type": "code",
   "execution_count": 36,
   "metadata": {},
   "outputs": [
    {
     "data": {
      "text/html": [
       "<div>\n",
       "<style scoped>\n",
       "    .dataframe tbody tr th:only-of-type {\n",
       "        vertical-align: middle;\n",
       "    }\n",
       "\n",
       "    .dataframe tbody tr th {\n",
       "        vertical-align: top;\n",
       "    }\n",
       "\n",
       "    .dataframe thead th {\n",
       "        text-align: right;\n",
       "    }\n",
       "</style>\n",
       "<table border=\"1\" class=\"dataframe\">\n",
       "  <thead>\n",
       "    <tr style=\"text-align: right;\">\n",
       "      <th></th>\n",
       "      <th>SK_ID_PREV</th>\n",
       "      <th>MONTHS_BALANCE</th>\n",
       "      <th>CNT_INSTALMENT</th>\n",
       "      <th>CNT_INSTALMENT_FUTURE</th>\n",
       "      <th>NAME_CONTRACT_STATUS</th>\n",
       "      <th>SK_DPD</th>\n",
       "      <th>SK_DPD_DEF</th>\n",
       "      <th>SK_ID_CURR</th>\n",
       "    </tr>\n",
       "  </thead>\n",
       "  <tbody>\n",
       "    <tr>\n",
       "      <th>241</th>\n",
       "      <td>1928179</td>\n",
       "      <td>-55</td>\n",
       "      <td>11.0</td>\n",
       "      <td>12.0</td>\n",
       "      <td>Active</td>\n",
       "      <td>0</td>\n",
       "      <td>0</td>\n",
       "      <td>109727</td>\n",
       "    </tr>\n",
       "    <tr>\n",
       "      <th>518</th>\n",
       "      <td>2702895</td>\n",
       "      <td>-62</td>\n",
       "      <td>20.0</td>\n",
       "      <td>23.0</td>\n",
       "      <td>Active</td>\n",
       "      <td>0</td>\n",
       "      <td>0</td>\n",
       "      <td>281161</td>\n",
       "    </tr>\n",
       "    <tr>\n",
       "      <th>530</th>\n",
       "      <td>2702895</td>\n",
       "      <td>-60</td>\n",
       "      <td>20.0</td>\n",
       "      <td>21.0</td>\n",
       "      <td>Active</td>\n",
       "      <td>0</td>\n",
       "      <td>0</td>\n",
       "      <td>281161</td>\n",
       "    </tr>\n",
       "    <tr>\n",
       "      <th>543</th>\n",
       "      <td>2702895</td>\n",
       "      <td>-61</td>\n",
       "      <td>20.0</td>\n",
       "      <td>22.0</td>\n",
       "      <td>Active</td>\n",
       "      <td>0</td>\n",
       "      <td>0</td>\n",
       "      <td>281161</td>\n",
       "    </tr>\n",
       "    <tr>\n",
       "      <th>3597</th>\n",
       "      <td>2824585</td>\n",
       "      <td>-38</td>\n",
       "      <td>6.0</td>\n",
       "      <td>7.0</td>\n",
       "      <td>Active</td>\n",
       "      <td>0</td>\n",
       "      <td>0</td>\n",
       "      <td>141166</td>\n",
       "    </tr>\n",
       "    <tr>\n",
       "      <th>...</th>\n",
       "      <td>...</td>\n",
       "      <td>...</td>\n",
       "      <td>...</td>\n",
       "      <td>...</td>\n",
       "      <td>...</td>\n",
       "      <td>...</td>\n",
       "      <td>...</td>\n",
       "      <td>...</td>\n",
       "    </tr>\n",
       "    <tr>\n",
       "      <th>8363816</th>\n",
       "      <td>2704473</td>\n",
       "      <td>-51</td>\n",
       "      <td>4.0</td>\n",
       "      <td>6.0</td>\n",
       "      <td>Signed</td>\n",
       "      <td>0</td>\n",
       "      <td>0</td>\n",
       "      <td>52593</td>\n",
       "    </tr>\n",
       "    <tr>\n",
       "      <th>8363819</th>\n",
       "      <td>2704473</td>\n",
       "      <td>-53</td>\n",
       "      <td>4.0</td>\n",
       "      <td>6.0</td>\n",
       "      <td>Signed</td>\n",
       "      <td>0</td>\n",
       "      <td>0</td>\n",
       "      <td>52593</td>\n",
       "    </tr>\n",
       "    <tr>\n",
       "      <th>8363822</th>\n",
       "      <td>2704473</td>\n",
       "      <td>-52</td>\n",
       "      <td>4.0</td>\n",
       "      <td>6.0</td>\n",
       "      <td>Signed</td>\n",
       "      <td>0</td>\n",
       "      <td>0</td>\n",
       "      <td>52593</td>\n",
       "    </tr>\n",
       "    <tr>\n",
       "      <th>8378590</th>\n",
       "      <td>1082263</td>\n",
       "      <td>-52</td>\n",
       "      <td>10.0</td>\n",
       "      <td>11.0</td>\n",
       "      <td>Active</td>\n",
       "      <td>0</td>\n",
       "      <td>0</td>\n",
       "      <td>187254</td>\n",
       "    </tr>\n",
       "    <tr>\n",
       "      <th>8378592</th>\n",
       "      <td>1082263</td>\n",
       "      <td>-53</td>\n",
       "      <td>10.0</td>\n",
       "      <td>12.0</td>\n",
       "      <td>Active</td>\n",
       "      <td>0</td>\n",
       "      <td>0</td>\n",
       "      <td>187254</td>\n",
       "    </tr>\n",
       "  </tbody>\n",
       "</table>\n",
       "<p>6430 rows × 8 columns</p>\n",
       "</div>"
      ],
      "text/plain": [
       "         SK_ID_PREV  MONTHS_BALANCE  CNT_INSTALMENT  CNT_INSTALMENT_FUTURE  \\\n",
       "241         1928179             -55            11.0                   12.0   \n",
       "518         2702895             -62            20.0                   23.0   \n",
       "530         2702895             -60            20.0                   21.0   \n",
       "543         2702895             -61            20.0                   22.0   \n",
       "3597        2824585             -38             6.0                    7.0   \n",
       "...             ...             ...             ...                    ...   \n",
       "8363816     2704473             -51             4.0                    6.0   \n",
       "8363819     2704473             -53             4.0                    6.0   \n",
       "8363822     2704473             -52             4.0                    6.0   \n",
       "8378590     1082263             -52            10.0                   11.0   \n",
       "8378592     1082263             -53            10.0                   12.0   \n",
       "\n",
       "        NAME_CONTRACT_STATUS  SK_DPD  SK_DPD_DEF  SK_ID_CURR  \n",
       "241                   Active       0           0      109727  \n",
       "518                   Active       0           0      281161  \n",
       "530                   Active       0           0      281161  \n",
       "543                   Active       0           0      281161  \n",
       "3597                  Active       0           0      141166  \n",
       "...                      ...     ...         ...         ...  \n",
       "8363816               Signed       0           0       52593  \n",
       "8363819               Signed       0           0       52593  \n",
       "8363822               Signed       0           0       52593  \n",
       "8378590               Active       0           0      187254  \n",
       "8378592               Active       0           0      187254  \n",
       "\n",
       "[6430 rows x 8 columns]"
      ]
     },
     "execution_count": 36,
     "metadata": {},
     "output_type": "execute_result"
    }
   ],
   "source": [
    "df = pos_cash[pos_cash['CNT_INSTALMENT'] < pos_cash['CNT_INSTALMENT_FUTURE']]\n",
    "df"
   ]
  },
  {
   "cell_type": "code",
   "execution_count": 37,
   "metadata": {},
   "outputs": [],
   "source": [
    "#df.loc[df['CNT_INSTALMENT_FUTURE'] > df['CNT_INSTALMENT'], 'CNT_INSTALMENT_FUTURE'] = np.nan"
   ]
  },
  {
   "cell_type": "markdown",
   "metadata": {},
   "source": [
    "## 4.4 SKD_DPD và SKD_DPD_DEF vượt mức pickleball -> chuyển hết về NaN"
   ]
  },
  {
   "cell_type": "code",
   "execution_count": 38,
   "metadata": {},
   "outputs": [
    {
     "data": {
      "text/html": [
       "<div>\n",
       "<style scoped>\n",
       "    .dataframe tbody tr th:only-of-type {\n",
       "        vertical-align: middle;\n",
       "    }\n",
       "\n",
       "    .dataframe tbody tr th {\n",
       "        vertical-align: top;\n",
       "    }\n",
       "\n",
       "    .dataframe thead th {\n",
       "        text-align: right;\n",
       "    }\n",
       "</style>\n",
       "<table border=\"1\" class=\"dataframe\">\n",
       "  <thead>\n",
       "    <tr style=\"text-align: right;\">\n",
       "      <th></th>\n",
       "      <th>SK_ID_PREV</th>\n",
       "      <th>MONTHS_BALANCE</th>\n",
       "      <th>CNT_INSTALMENT</th>\n",
       "      <th>CNT_INSTALMENT_FUTURE</th>\n",
       "      <th>NAME_CONTRACT_STATUS</th>\n",
       "      <th>SK_DPD</th>\n",
       "      <th>SK_DPD_DEF</th>\n",
       "      <th>SK_ID_CURR</th>\n",
       "    </tr>\n",
       "  </thead>\n",
       "  <tbody>\n",
       "    <tr>\n",
       "      <th>326989</th>\n",
       "      <td>2100372</td>\n",
       "      <td>-2</td>\n",
       "      <td>8.0</td>\n",
       "      <td>0.0</td>\n",
       "      <td>Completed</td>\n",
       "      <td>2945</td>\n",
       "      <td>0</td>\n",
       "      <td>178235</td>\n",
       "    </tr>\n",
       "    <tr>\n",
       "      <th>422452</th>\n",
       "      <td>1937260</td>\n",
       "      <td>-12</td>\n",
       "      <td>24.0</td>\n",
       "      <td>0.0</td>\n",
       "      <td>Active</td>\n",
       "      <td>3472</td>\n",
       "      <td>0</td>\n",
       "      <td>208132</td>\n",
       "    </tr>\n",
       "    <tr>\n",
       "      <th>422454</th>\n",
       "      <td>1937260</td>\n",
       "      <td>-20</td>\n",
       "      <td>24.0</td>\n",
       "      <td>0.0</td>\n",
       "      <td>Active</td>\n",
       "      <td>3227</td>\n",
       "      <td>0</td>\n",
       "      <td>208132</td>\n",
       "    </tr>\n",
       "    <tr>\n",
       "      <th>422463</th>\n",
       "      <td>1937260</td>\n",
       "      <td>-25</td>\n",
       "      <td>24.0</td>\n",
       "      <td>0.0</td>\n",
       "      <td>Active</td>\n",
       "      <td>3076</td>\n",
       "      <td>0</td>\n",
       "      <td>208132</td>\n",
       "    </tr>\n",
       "    <tr>\n",
       "      <th>422468</th>\n",
       "      <td>1937260</td>\n",
       "      <td>-27</td>\n",
       "      <td>24.0</td>\n",
       "      <td>0.0</td>\n",
       "      <td>Active</td>\n",
       "      <td>3015</td>\n",
       "      <td>0</td>\n",
       "      <td>208132</td>\n",
       "    </tr>\n",
       "    <tr>\n",
       "      <th>...</th>\n",
       "      <td>...</td>\n",
       "      <td>...</td>\n",
       "      <td>...</td>\n",
       "      <td>...</td>\n",
       "      <td>...</td>\n",
       "      <td>...</td>\n",
       "      <td>...</td>\n",
       "      <td>...</td>\n",
       "    </tr>\n",
       "    <tr>\n",
       "      <th>8541532</th>\n",
       "      <td>1257852</td>\n",
       "      <td>-8</td>\n",
       "      <td>10.0</td>\n",
       "      <td>0.0</td>\n",
       "      <td>Active</td>\n",
       "      <td>2969</td>\n",
       "      <td>0</td>\n",
       "      <td>209628</td>\n",
       "    </tr>\n",
       "    <tr>\n",
       "      <th>8541534</th>\n",
       "      <td>1257852</td>\n",
       "      <td>-7</td>\n",
       "      <td>10.0</td>\n",
       "      <td>0.0</td>\n",
       "      <td>Active</td>\n",
       "      <td>2999</td>\n",
       "      <td>0</td>\n",
       "      <td>209628</td>\n",
       "    </tr>\n",
       "    <tr>\n",
       "      <th>8541535</th>\n",
       "      <td>1257852</td>\n",
       "      <td>-2</td>\n",
       "      <td>10.0</td>\n",
       "      <td>0.0</td>\n",
       "      <td>Active</td>\n",
       "      <td>3152</td>\n",
       "      <td>0</td>\n",
       "      <td>209628</td>\n",
       "    </tr>\n",
       "    <tr>\n",
       "      <th>8541536</th>\n",
       "      <td>1257852</td>\n",
       "      <td>-1</td>\n",
       "      <td>10.0</td>\n",
       "      <td>0.0</td>\n",
       "      <td>Active</td>\n",
       "      <td>3183</td>\n",
       "      <td>0</td>\n",
       "      <td>209628</td>\n",
       "    </tr>\n",
       "    <tr>\n",
       "      <th>8541537</th>\n",
       "      <td>1257852</td>\n",
       "      <td>-5</td>\n",
       "      <td>10.0</td>\n",
       "      <td>0.0</td>\n",
       "      <td>Active</td>\n",
       "      <td>3060</td>\n",
       "      <td>0</td>\n",
       "      <td>209628</td>\n",
       "    </tr>\n",
       "  </tbody>\n",
       "</table>\n",
       "<p>1805 rows × 8 columns</p>\n",
       "</div>"
      ],
      "text/plain": [
       "         SK_ID_PREV  MONTHS_BALANCE  CNT_INSTALMENT  CNT_INSTALMENT_FUTURE  \\\n",
       "326989      2100372              -2             8.0                    0.0   \n",
       "422452      1937260             -12            24.0                    0.0   \n",
       "422454      1937260             -20            24.0                    0.0   \n",
       "422463      1937260             -25            24.0                    0.0   \n",
       "422468      1937260             -27            24.0                    0.0   \n",
       "...             ...             ...             ...                    ...   \n",
       "8541532     1257852              -8            10.0                    0.0   \n",
       "8541534     1257852              -7            10.0                    0.0   \n",
       "8541535     1257852              -2            10.0                    0.0   \n",
       "8541536     1257852              -1            10.0                    0.0   \n",
       "8541537     1257852              -5            10.0                    0.0   \n",
       "\n",
       "        NAME_CONTRACT_STATUS  SK_DPD  SK_DPD_DEF  SK_ID_CURR  \n",
       "326989             Completed    2945           0      178235  \n",
       "422452                Active    3472           0      208132  \n",
       "422454                Active    3227           0      208132  \n",
       "422463                Active    3076           0      208132  \n",
       "422468                Active    3015           0      208132  \n",
       "...                      ...     ...         ...         ...  \n",
       "8541532               Active    2969           0      209628  \n",
       "8541534               Active    2999           0      209628  \n",
       "8541535               Active    3152           0      209628  \n",
       "8541536               Active    3183           0      209628  \n",
       "8541537               Active    3060           0      209628  \n",
       "\n",
       "[1805 rows x 8 columns]"
      ]
     },
     "execution_count": 38,
     "metadata": {},
     "output_type": "execute_result"
    }
   ],
   "source": [
    "pos_cash.loc[pos_cash['SK_DPD'] > 2920] "
   ]
  },
  {
   "cell_type": "code",
   "execution_count": 39,
   "metadata": {},
   "outputs": [
    {
     "data": {
      "text/html": [
       "<div>\n",
       "<style scoped>\n",
       "    .dataframe tbody tr th:only-of-type {\n",
       "        vertical-align: middle;\n",
       "    }\n",
       "\n",
       "    .dataframe tbody tr th {\n",
       "        vertical-align: top;\n",
       "    }\n",
       "\n",
       "    .dataframe thead th {\n",
       "        text-align: right;\n",
       "    }\n",
       "</style>\n",
       "<table border=\"1\" class=\"dataframe\">\n",
       "  <thead>\n",
       "    <tr style=\"text-align: right;\">\n",
       "      <th></th>\n",
       "      <th>SK_ID_PREV</th>\n",
       "      <th>MONTHS_BALANCE</th>\n",
       "      <th>CNT_INSTALMENT</th>\n",
       "      <th>CNT_INSTALMENT_FUTURE</th>\n",
       "      <th>NAME_CONTRACT_STATUS</th>\n",
       "      <th>SK_DPD</th>\n",
       "      <th>SK_DPD_DEF</th>\n",
       "      <th>SK_ID_CURR</th>\n",
       "    </tr>\n",
       "  </thead>\n",
       "  <tbody>\n",
       "    <tr>\n",
       "      <th>2025948</th>\n",
       "      <td>1915099</td>\n",
       "      <td>-9</td>\n",
       "      <td>7.0</td>\n",
       "      <td>0.0</td>\n",
       "      <td>Demand</td>\n",
       "      <td>2944</td>\n",
       "      <td>2944</td>\n",
       "      <td>233118</td>\n",
       "    </tr>\n",
       "    <tr>\n",
       "      <th>2025949</th>\n",
       "      <td>1915099</td>\n",
       "      <td>-6</td>\n",
       "      <td>7.0</td>\n",
       "      <td>0.0</td>\n",
       "      <td>Demand</td>\n",
       "      <td>3036</td>\n",
       "      <td>3036</td>\n",
       "      <td>233118</td>\n",
       "    </tr>\n",
       "    <tr>\n",
       "      <th>2025950</th>\n",
       "      <td>1915099</td>\n",
       "      <td>-7</td>\n",
       "      <td>7.0</td>\n",
       "      <td>0.0</td>\n",
       "      <td>Demand</td>\n",
       "      <td>3006</td>\n",
       "      <td>3006</td>\n",
       "      <td>233118</td>\n",
       "    </tr>\n",
       "    <tr>\n",
       "      <th>2025994</th>\n",
       "      <td>1915099</td>\n",
       "      <td>-8</td>\n",
       "      <td>7.0</td>\n",
       "      <td>0.0</td>\n",
       "      <td>Demand</td>\n",
       "      <td>2975</td>\n",
       "      <td>2975</td>\n",
       "      <td>233118</td>\n",
       "    </tr>\n",
       "    <tr>\n",
       "      <th>2025995</th>\n",
       "      <td>1915099</td>\n",
       "      <td>-2</td>\n",
       "      <td>7.0</td>\n",
       "      <td>0.0</td>\n",
       "      <td>Demand</td>\n",
       "      <td>3159</td>\n",
       "      <td>3159</td>\n",
       "      <td>233118</td>\n",
       "    </tr>\n",
       "    <tr>\n",
       "      <th>...</th>\n",
       "      <td>...</td>\n",
       "      <td>...</td>\n",
       "      <td>...</td>\n",
       "      <td>...</td>\n",
       "      <td>...</td>\n",
       "      <td>...</td>\n",
       "      <td>...</td>\n",
       "      <td>...</td>\n",
       "    </tr>\n",
       "    <tr>\n",
       "      <th>8275975</th>\n",
       "      <td>1385544</td>\n",
       "      <td>-5</td>\n",
       "      <td>9.0</td>\n",
       "      <td>0.0</td>\n",
       "      <td>Demand</td>\n",
       "      <td>3117</td>\n",
       "      <td>3117</td>\n",
       "      <td>182058</td>\n",
       "    </tr>\n",
       "    <tr>\n",
       "      <th>8275976</th>\n",
       "      <td>1385544</td>\n",
       "      <td>-7</td>\n",
       "      <td>9.0</td>\n",
       "      <td>0.0</td>\n",
       "      <td>Demand</td>\n",
       "      <td>3056</td>\n",
       "      <td>3056</td>\n",
       "      <td>182058</td>\n",
       "    </tr>\n",
       "    <tr>\n",
       "      <th>8275977</th>\n",
       "      <td>1385544</td>\n",
       "      <td>-2</td>\n",
       "      <td>9.0</td>\n",
       "      <td>0.0</td>\n",
       "      <td>Demand</td>\n",
       "      <td>3209</td>\n",
       "      <td>3209</td>\n",
       "      <td>182058</td>\n",
       "    </tr>\n",
       "    <tr>\n",
       "      <th>8275978</th>\n",
       "      <td>1385544</td>\n",
       "      <td>-8</td>\n",
       "      <td>9.0</td>\n",
       "      <td>0.0</td>\n",
       "      <td>Demand</td>\n",
       "      <td>3025</td>\n",
       "      <td>3025</td>\n",
       "      <td>182058</td>\n",
       "    </tr>\n",
       "    <tr>\n",
       "      <th>8275979</th>\n",
       "      <td>1385544</td>\n",
       "      <td>-4</td>\n",
       "      <td>9.0</td>\n",
       "      <td>0.0</td>\n",
       "      <td>Demand</td>\n",
       "      <td>3147</td>\n",
       "      <td>3147</td>\n",
       "      <td>182058</td>\n",
       "    </tr>\n",
       "  </tbody>\n",
       "</table>\n",
       "<p>112 rows × 8 columns</p>\n",
       "</div>"
      ],
      "text/plain": [
       "         SK_ID_PREV  MONTHS_BALANCE  CNT_INSTALMENT  CNT_INSTALMENT_FUTURE  \\\n",
       "2025948     1915099              -9             7.0                    0.0   \n",
       "2025949     1915099              -6             7.0                    0.0   \n",
       "2025950     1915099              -7             7.0                    0.0   \n",
       "2025994     1915099              -8             7.0                    0.0   \n",
       "2025995     1915099              -2             7.0                    0.0   \n",
       "...             ...             ...             ...                    ...   \n",
       "8275975     1385544              -5             9.0                    0.0   \n",
       "8275976     1385544              -7             9.0                    0.0   \n",
       "8275977     1385544              -2             9.0                    0.0   \n",
       "8275978     1385544              -8             9.0                    0.0   \n",
       "8275979     1385544              -4             9.0                    0.0   \n",
       "\n",
       "        NAME_CONTRACT_STATUS  SK_DPD  SK_DPD_DEF  SK_ID_CURR  \n",
       "2025948               Demand    2944        2944      233118  \n",
       "2025949               Demand    3036        3036      233118  \n",
       "2025950               Demand    3006        3006      233118  \n",
       "2025994               Demand    2975        2975      233118  \n",
       "2025995               Demand    3159        3159      233118  \n",
       "...                      ...     ...         ...         ...  \n",
       "8275975               Demand    3117        3117      182058  \n",
       "8275976               Demand    3056        3056      182058  \n",
       "8275977               Demand    3209        3209      182058  \n",
       "8275978               Demand    3025        3025      182058  \n",
       "8275979               Demand    3147        3147      182058  \n",
       "\n",
       "[112 rows x 8 columns]"
      ]
     },
     "execution_count": 39,
     "metadata": {},
     "output_type": "execute_result"
    }
   ],
   "source": [
    "pos_cash.loc[pos_cash['SK_DPD_DEF'] > 2920]"
   ]
  },
  {
   "cell_type": "markdown",
   "metadata": {},
   "source": [
    "## 4.5 Các vấn đề liên quan tới Status"
   ]
  },
  {
   "cell_type": "code",
   "execution_count": 40,
   "metadata": {},
   "outputs": [
    {
     "data": {
      "text/html": [
       "<div>\n",
       "<style scoped>\n",
       "    .dataframe tbody tr th:only-of-type {\n",
       "        vertical-align: middle;\n",
       "    }\n",
       "\n",
       "    .dataframe tbody tr th {\n",
       "        vertical-align: top;\n",
       "    }\n",
       "\n",
       "    .dataframe thead th {\n",
       "        text-align: right;\n",
       "    }\n",
       "</style>\n",
       "<table border=\"1\" class=\"dataframe\">\n",
       "  <thead>\n",
       "    <tr style=\"text-align: right;\">\n",
       "      <th></th>\n",
       "      <th>SK_ID_PREV</th>\n",
       "      <th>MONTHS_BALANCE</th>\n",
       "      <th>CNT_INSTALMENT</th>\n",
       "      <th>CNT_INSTALMENT_FUTURE</th>\n",
       "      <th>NAME_CONTRACT_STATUS</th>\n",
       "      <th>SK_DPD</th>\n",
       "      <th>SK_DPD_DEF</th>\n",
       "      <th>SK_ID_CURR</th>\n",
       "    </tr>\n",
       "  </thead>\n",
       "  <tbody>\n",
       "    <tr>\n",
       "      <th>3893923</th>\n",
       "      <td>1332308</td>\n",
       "      <td>-26</td>\n",
       "      <td>12.0</td>\n",
       "      <td>7.0</td>\n",
       "      <td>Completed</td>\n",
       "      <td>10</td>\n",
       "      <td>10</td>\n",
       "      <td>36265</td>\n",
       "    </tr>\n",
       "    <tr>\n",
       "      <th>6292126</th>\n",
       "      <td>2570081</td>\n",
       "      <td>-37</td>\n",
       "      <td>48.0</td>\n",
       "      <td>0.0</td>\n",
       "      <td>Completed</td>\n",
       "      <td>61</td>\n",
       "      <td>61</td>\n",
       "      <td>174364</td>\n",
       "    </tr>\n",
       "    <tr>\n",
       "      <th>6663118</th>\n",
       "      <td>1322820</td>\n",
       "      <td>-48</td>\n",
       "      <td>6.0</td>\n",
       "      <td>0.0</td>\n",
       "      <td>Completed</td>\n",
       "      <td>847</td>\n",
       "      <td>847</td>\n",
       "      <td>249197</td>\n",
       "    </tr>\n",
       "    <tr>\n",
       "      <th>6663125</th>\n",
       "      <td>1322820</td>\n",
       "      <td>-15</td>\n",
       "      <td>6.0</td>\n",
       "      <td>0.0</td>\n",
       "      <td>Completed</td>\n",
       "      <td>2041</td>\n",
       "      <td>2041</td>\n",
       "      <td>249197</td>\n",
       "    </tr>\n",
       "    <tr>\n",
       "      <th>6663126</th>\n",
       "      <td>1322820</td>\n",
       "      <td>-31</td>\n",
       "      <td>6.0</td>\n",
       "      <td>0.0</td>\n",
       "      <td>Completed</td>\n",
       "      <td>1554</td>\n",
       "      <td>1554</td>\n",
       "      <td>249197</td>\n",
       "    </tr>\n",
       "    <tr>\n",
       "      <th>...</th>\n",
       "      <td>...</td>\n",
       "      <td>...</td>\n",
       "      <td>...</td>\n",
       "      <td>...</td>\n",
       "      <td>...</td>\n",
       "      <td>...</td>\n",
       "      <td>...</td>\n",
       "      <td>...</td>\n",
       "    </tr>\n",
       "    <tr>\n",
       "      <th>7707138</th>\n",
       "      <td>2478336</td>\n",
       "      <td>-7</td>\n",
       "      <td>6.0</td>\n",
       "      <td>0.0</td>\n",
       "      <td>Completed</td>\n",
       "      <td>2434</td>\n",
       "      <td>2434</td>\n",
       "      <td>41380</td>\n",
       "    </tr>\n",
       "    <tr>\n",
       "      <th>7707139</th>\n",
       "      <td>2478336</td>\n",
       "      <td>-10</td>\n",
       "      <td>6.0</td>\n",
       "      <td>0.0</td>\n",
       "      <td>Completed</td>\n",
       "      <td>2345</td>\n",
       "      <td>2345</td>\n",
       "      <td>41380</td>\n",
       "    </tr>\n",
       "    <tr>\n",
       "      <th>7707140</th>\n",
       "      <td>2478336</td>\n",
       "      <td>-9</td>\n",
       "      <td>6.0</td>\n",
       "      <td>0.0</td>\n",
       "      <td>Completed</td>\n",
       "      <td>2373</td>\n",
       "      <td>2373</td>\n",
       "      <td>41380</td>\n",
       "    </tr>\n",
       "    <tr>\n",
       "      <th>7707141</th>\n",
       "      <td>2478336</td>\n",
       "      <td>-8</td>\n",
       "      <td>6.0</td>\n",
       "      <td>0.0</td>\n",
       "      <td>Completed</td>\n",
       "      <td>2404</td>\n",
       "      <td>2404</td>\n",
       "      <td>41380</td>\n",
       "    </tr>\n",
       "    <tr>\n",
       "      <th>7707142</th>\n",
       "      <td>2478336</td>\n",
       "      <td>-4</td>\n",
       "      <td>6.0</td>\n",
       "      <td>0.0</td>\n",
       "      <td>Completed</td>\n",
       "      <td>2526</td>\n",
       "      <td>2526</td>\n",
       "      <td>41380</td>\n",
       "    </tr>\n",
       "  </tbody>\n",
       "</table>\n",
       "<p>106 rows × 8 columns</p>\n",
       "</div>"
      ],
      "text/plain": [
       "         SK_ID_PREV  MONTHS_BALANCE  CNT_INSTALMENT  CNT_INSTALMENT_FUTURE  \\\n",
       "3893923     1332308             -26            12.0                    7.0   \n",
       "6292126     2570081             -37            48.0                    0.0   \n",
       "6663118     1322820             -48             6.0                    0.0   \n",
       "6663125     1322820             -15             6.0                    0.0   \n",
       "6663126     1322820             -31             6.0                    0.0   \n",
       "...             ...             ...             ...                    ...   \n",
       "7707138     2478336              -7             6.0                    0.0   \n",
       "7707139     2478336             -10             6.0                    0.0   \n",
       "7707140     2478336              -9             6.0                    0.0   \n",
       "7707141     2478336              -8             6.0                    0.0   \n",
       "7707142     2478336              -4             6.0                    0.0   \n",
       "\n",
       "        NAME_CONTRACT_STATUS  SK_DPD  SK_DPD_DEF  SK_ID_CURR  \n",
       "3893923            Completed      10          10       36265  \n",
       "6292126            Completed      61          61      174364  \n",
       "6663118            Completed     847         847      249197  \n",
       "6663125            Completed    2041        2041      249197  \n",
       "6663126            Completed    1554        1554      249197  \n",
       "...                      ...     ...         ...         ...  \n",
       "7707138            Completed    2434        2434       41380  \n",
       "7707139            Completed    2345        2345       41380  \n",
       "7707140            Completed    2373        2373       41380  \n",
       "7707141            Completed    2404        2404       41380  \n",
       "7707142            Completed    2526        2526       41380  \n",
       "\n",
       "[106 rows x 8 columns]"
      ]
     },
     "execution_count": 40,
     "metadata": {},
     "output_type": "execute_result"
    }
   ],
   "source": [
    "pos_cash.loc[(pos_cash['NAME_CONTRACT_STATUS'] == 'Completed') & (pos_cash['SK_DPD_DEF'] > 0)]\n"
   ]
  },
  {
   "cell_type": "code",
   "execution_count": 41,
   "metadata": {},
   "outputs": [
    {
     "data": {
      "text/html": [
       "<div>\n",
       "<style scoped>\n",
       "    .dataframe tbody tr th:only-of-type {\n",
       "        vertical-align: middle;\n",
       "    }\n",
       "\n",
       "    .dataframe tbody tr th {\n",
       "        vertical-align: top;\n",
       "    }\n",
       "\n",
       "    .dataframe thead th {\n",
       "        text-align: right;\n",
       "    }\n",
       "</style>\n",
       "<table border=\"1\" class=\"dataframe\">\n",
       "  <thead>\n",
       "    <tr style=\"text-align: right;\">\n",
       "      <th></th>\n",
       "      <th>SK_ID_PREV</th>\n",
       "      <th>MONTHS_BALANCE</th>\n",
       "      <th>CNT_INSTALMENT</th>\n",
       "      <th>CNT_INSTALMENT_FUTURE</th>\n",
       "      <th>NAME_CONTRACT_STATUS</th>\n",
       "      <th>SK_DPD</th>\n",
       "      <th>SK_DPD_DEF</th>\n",
       "      <th>SK_ID_CURR</th>\n",
       "    </tr>\n",
       "  </thead>\n",
       "  <tbody>\n",
       "    <tr>\n",
       "      <th>2004460</th>\n",
       "      <td>2408885</td>\n",
       "      <td>-8</td>\n",
       "      <td>8.0</td>\n",
       "      <td>8.0</td>\n",
       "      <td>Completed</td>\n",
       "      <td>0</td>\n",
       "      <td>0</td>\n",
       "      <td>23126</td>\n",
       "    </tr>\n",
       "    <tr>\n",
       "      <th>3893923</th>\n",
       "      <td>1332308</td>\n",
       "      <td>-26</td>\n",
       "      <td>12.0</td>\n",
       "      <td>7.0</td>\n",
       "      <td>Completed</td>\n",
       "      <td>10</td>\n",
       "      <td>10</td>\n",
       "      <td>36265</td>\n",
       "    </tr>\n",
       "    <tr>\n",
       "      <th>6860002</th>\n",
       "      <td>1134377</td>\n",
       "      <td>-95</td>\n",
       "      <td>10.0</td>\n",
       "      <td>10.0</td>\n",
       "      <td>Completed</td>\n",
       "      <td>0</td>\n",
       "      <td>0</td>\n",
       "      <td>39270</td>\n",
       "    </tr>\n",
       "  </tbody>\n",
       "</table>\n",
       "</div>"
      ],
      "text/plain": [
       "         SK_ID_PREV  MONTHS_BALANCE  CNT_INSTALMENT  CNT_INSTALMENT_FUTURE  \\\n",
       "2004460     2408885              -8             8.0                    8.0   \n",
       "3893923     1332308             -26            12.0                    7.0   \n",
       "6860002     1134377             -95            10.0                   10.0   \n",
       "\n",
       "        NAME_CONTRACT_STATUS  SK_DPD  SK_DPD_DEF  SK_ID_CURR  \n",
       "2004460            Completed       0           0       23126  \n",
       "3893923            Completed      10          10       36265  \n",
       "6860002            Completed       0           0       39270  "
      ]
     },
     "execution_count": 41,
     "metadata": {},
     "output_type": "execute_result"
    }
   ],
   "source": [
    "pos_cash.loc[(pos_cash['NAME_CONTRACT_STATUS'] == 'Completed') & (pos_cash['CNT_INSTALMENT_FUTURE'] > 0)]"
   ]
  },
  {
   "cell_type": "markdown",
   "metadata": {},
   "source": [
    "# 5. Correlation"
   ]
  },
  {
   "cell_type": "code",
   "execution_count": 42,
   "metadata": {},
   "outputs": [],
   "source": [
    "def plot_phik_matrix(data, categorical_columns, figsize = (20,20), mask_upper = True, tight_layout = True, \n",
    "                     linewidth = 0.1, fontsize = 10, cmap = 'Blues', show_target_top_corr = True, target_top_columns = 10):\n",
    "    \n",
    "    #first fetching only the categorical features\n",
    "    data_for_phik = data[categorical_columns].astype('object')\n",
    "    phik_matrix = data_for_phik.phik_matrix()\n",
    "    \n",
    "    print('-'*100)\n",
    "    \n",
    "    if mask_upper:\n",
    "        mask_array = np.ones(phik_matrix.shape)\n",
    "        mask_array = np.triu(mask_array)\n",
    "    else:\n",
    "        mask_array = np.zeros(phik_matrix.shape)\n",
    "        \n",
    "    plt.figure(figsize = figsize, tight_layout = tight_layout)\n",
    "    sns.heatmap(phik_matrix, annot = False, mask = mask_array, linewidth = linewidth, cmap = cmap)\n",
    "    plt.xticks(rotation = 90, fontsize = fontsize)\n",
    "    plt.yticks(rotation = 0, fontsize = fontsize)\n",
    "    plt.title(\"Phi-K Correlation Heatmap for Categorical Features\")\n",
    "    plt.show()\n",
    "    print(\"-\"*100)\n",
    "\n",
    "    if show_target_top_corr:\n",
    "        #Seeing the top columns with highest correlation with the target variable in application_train\n",
    "        print(\"Categories with highest values of Phi-K Correlation value with Target Variable are:\")\n",
    "        phik_df = pd.DataFrame({'Column Name' : phik_matrix.TARGET.index[1:], 'Phik-Correlation' : phik_matrix.TARGET.values[1:]})\n",
    "        phik_df = phik_df.sort_values(by = 'Phik-Correlation', ascending = False)\n",
    "        display(phik_df.head(target_top_columns))\n",
    "        print(\"-\"*100) "
   ]
  },
  {
   "cell_type": "code",
   "execution_count": 45,
   "metadata": {},
   "outputs": [
    {
     "name": "stdout",
     "output_type": "stream",
     "text": [
      "----------------------------------------------------------------------------------------------------\n"
     ]
    },
    {
     "data": {
      "image/png": "[encoded data removed]",
      "text/plain": [
       "<Figure size 1000x1000 with 2 Axes>"
      ]
     },
     "metadata": {},
     "output_type": "display_data"
    },
    {
     "name": "stdout",
     "output_type": "stream",
     "text": [
      "----------------------------------------------------------------------------------------------------\n",
      "Categories with highest values of Phi-K Correlation value with Target Variable are:\n"
     ]
    },
    {
     "data": {
      "text/html": [
       "<div>\n",
       "<style scoped>\n",
       "    .dataframe tbody tr th:only-of-type {\n",
       "        vertical-align: middle;\n",
       "    }\n",
       "\n",
       "    .dataframe tbody tr th {\n",
       "        vertical-align: top;\n",
       "    }\n",
       "\n",
       "    .dataframe thead th {\n",
       "        text-align: right;\n",
       "    }\n",
       "</style>\n",
       "<table border=\"1\" class=\"dataframe\">\n",
       "  <thead>\n",
       "    <tr style=\"text-align: right;\">\n",
       "      <th></th>\n",
       "      <th>Column Name</th>\n",
       "      <th>Phik-Correlation</th>\n",
       "    </tr>\n",
       "  </thead>\n",
       "  <tbody>\n",
       "    <tr>\n",
       "      <th>0</th>\n",
       "      <td>NAME_CONTRACT_STATUS</td>\n",
       "      <td>0.009378</td>\n",
       "    </tr>\n",
       "  </tbody>\n",
       "</table>\n",
       "</div>"
      ],
      "text/plain": [
       "            Column Name  Phik-Correlation\n",
       "0  NAME_CONTRACT_STATUS          0.009378"
      ]
     },
     "metadata": {},
     "output_type": "display_data"
    },
    {
     "name": "stdout",
     "output_type": "stream",
     "text": [
      "----------------------------------------------------------------------------------------------------\n"
     ]
    }
   ],
   "source": [
    "cols_for_phik = ['TARGET', 'NAME_CONTRACT_STATUS']\n",
    "plot_phik_matrix(pos_cash_merge, cols_for_phik,  figsize = (10,10))"
   ]
  },
  {
   "cell_type": "code",
   "execution_count": 44,
   "metadata": {},
   "outputs": [
    {
     "data": {
      "image/png": "[encoded data removed]",
      "text/plain": [
       "<Figure size 2000x2000 with 2 Axes>"
      ]
     },
     "metadata": {},
     "output_type": "display_data"
    }
   ],
   "source": [
    "def correlation_matrix(data, columns_to_include, cmap='Blues', figsize=(20, 20)):\n",
    "    data_filtered = data[columns_to_include]\n",
    "    numeric_data = data_filtered.select_dtypes(include=['number', 'float', 'int'])\n",
    "    corr_data = numeric_data.corr()\n",
    "    plt.figure(figsize=figsize, tight_layout = True)\n",
    "    sns.heatmap(corr_data, annot=False, cmap=cmap, vmin=-1, vmax=1, linewidths=0.1)\n",
    "    plt.xticks(rotation = 90, fontsize = 10)\n",
    "    plt.yticks(fontsize = 10)\n",
    "    plt.title(\"Correlation Matrix\")\n",
    "    plt.show()\n",
    "    return corr_data\n",
    "cols_for_corr = ['TARGET','MONTHS_BALANCE', 'CNT_INSTALMENT','CNT_INSTALMENT_FUTURE', 'SK_DPD', 'SK_DPD_DEF']\n",
    "corr_mat = correlation_matrix(pos_cash_merge, cols_for_corr, cmap='Blues')"
   ]
  },
  {
   "cell_type": "markdown",
   "metadata": {},
   "source": [
    "### Comment\n",
    "- Correlation between the fetures:\n",
    "    - Moderately correlated: CNT_INSTALMENT and CNT_INSTALMENT_FUTURE.-> can make new feature from this set\n",
    "    - The correlation of features with Target is very low, this shows the absence of a linear relationship between the feature and the target variable"
   ]
  },
  {
   "cell_type": "markdown",
   "metadata": {},
   "source": [
    "# Overall Comment"
   ]
  },
  {
   "cell_type": "markdown",
   "metadata": {},
   "source": [
    "- Grouped NAME_CONTRACT_STATUS in 3 categories instead of 9: Active (Active + Demand), Completed ('Completed', 'Canceled'), and Others ('Approved' 'Signed' 'Returned to the store' 'XNA' 'Amortized debt)\n",
    "- Chuyển các pos_cash.loc[(pos_cash['CNT_INSTALMENT_FUTURE'] == 0) & (pos_cash['NAME_CONTRACT_STATUS'] == 'Active')] -> NaN hoặc Completed\n",
    "- các giá trị pos_cash[pos_cash['CNT_INSTALMENT'] < pos_cash['CNT_INSTALMENT_FUTURE']] -> drop hoặc chuyển về NaN\n",
    "- pos_cash.loc[pos_cash['SK_DPD'] > 2920] -> drop hoặc chuyển về NaN\n",
    "- pos_cash.loc[pos_cash['SK_DPD_DEF'] > 2920] -> drop hoặc chuyển về NaN\n",
    "- pos_cash.loc[(pos_cash['NAME_CONTRACT_STATUS'] == 'Completed') & (pos_cash['CNT_INSTALMENT_FUTURE'] > 0)] -> drop "
   ]
  }
 ],
 "metadata": {
  "kernelspec": {
   "display_name": "base",
   "language": "python",
   "name": "python3"
  },
  "language_info": {
   "codemirror_mode": {
    "name": "ipython",
    "version": 3
   },
   "file_extension": ".py",
   "mimetype": "text/x-python",
   "name": "python",
   "nbconvert_exporter": "python",
   "pygments_lexer": "ipython3",
   "version": "3.12.2"
  }
 },
 "nbformat": 4,
 "nbformat_minor": 2
}
